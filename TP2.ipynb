{
 "cells": [
  {
   "cell_type": "markdown",
   "metadata": {},
   "source": [
    "# TP2 ANN"
   ]
  },
  {
   "cell_type": "markdown",
   "metadata": {},
   "source": [
    "## Importation des librairies"
   ]
  },
  {
   "cell_type": "code",
   "execution_count": 5,
   "metadata": {},
   "outputs": [],
   "source": [
    "from sklearn.datasets import fetch_openml\n",
    "import matplotlib.pyplot as plt\n",
    "from sklearn.neural_network import MLPClassifier\n",
    "from sklearn.metrics import precision_score\n",
    "from sklearn import neighbors, model_selection\n",
    "import time\n"
   ]
  },
  {
   "cell_type": "markdown",
   "metadata": {},
   "source": [
    "## Importation du jeu de données"
   ]
  },
  {
   "cell_type": "code",
   "execution_count": 6,
   "metadata": {},
   "outputs": [],
   "source": [
    "mnist = fetch_openml('mnist_784') "
   ]
  },
  {
   "cell_type": "code",
   "execution_count": 4,
   "metadata": {},
   "outputs": [
    {
     "data": {
      "text/plain": [
       "70000"
      ]
     },
     "execution_count": 4,
     "metadata": {},
     "output_type": "execute_result"
    }
   ],
   "source": [
    "len(mnist.data)"
   ]
  },
  {
   "cell_type": "code",
   "execution_count": 12,
   "metadata": {},
   "outputs": [],
   "source": [
    "# on prend 70% du dataset de 70 000 (49000) pour le training set\n",
    "xtrain, xtest, ytrain, ytest =  model_selection.train_test_split(mnist.data, mnist.target,train_size=0.7)"
   ]
  },
  {
   "cell_type": "code",
   "execution_count": 8,
   "metadata": {},
   "outputs": [],
   "source": [
    "mlp = MLPClassifier(hidden_layer_sizes=50)"
   ]
  },
  {
   "cell_type": "code",
   "execution_count": 9,
   "metadata": {},
   "outputs": [
    {
     "data": {
      "text/plain": [
       "MLPClassifier(activation='relu', alpha=0.0001, batch_size='auto', beta_1=0.9,\n",
       "              beta_2=0.999, early_stopping=False, epsilon=1e-08,\n",
       "              hidden_layer_sizes=50, learning_rate='constant',\n",
       "              learning_rate_init=0.001, max_iter=200, momentum=0.9,\n",
       "              n_iter_no_change=10, nesterovs_momentum=True, power_t=0.5,\n",
       "              random_state=None, shuffle=True, solver='adam', tol=0.0001,\n",
       "              validation_fraction=0.1, verbose=False, warm_start=False)"
      ]
     },
     "execution_count": 9,
     "metadata": {},
     "output_type": "execute_result"
    }
   ],
   "source": [
    "# entraînement du réseau de neurones \n",
    "mlp.fit(xtrain,ytrain)"
   ]
  },
  {
   "cell_type": "markdown",
   "metadata": {},
   "source": [
    "## Calcul de la précision (1ère méthode)"
   ]
  },
  {
   "cell_type": "code",
   "execution_count": 10,
   "metadata": {},
   "outputs": [
    {
     "data": {
      "text/plain": [
       "0.9452380952380952"
      ]
     },
     "execution_count": 10,
     "metadata": {},
     "output_type": "execute_result"
    }
   ],
   "source": [
    "#score sur le jeu de test, précision de 0.9489\n",
    "mlp.score(xtest,ytest)"
   ]
  },
  {
   "cell_type": "markdown",
   "metadata": {},
   "source": [
    "## Calcul de la précision (2ème méthode)"
   ]
  },
  {
   "cell_type": "code",
   "execution_count": 11,
   "metadata": {},
   "outputs": [
    {
     "name": "stdout",
     "output_type": "stream",
     "text": [
      "valeur prédite :  ['8']\n",
      "valeur réelle :  8\n"
     ]
    }
   ],
   "source": [
    "print(\"valeur prédite : \",mlp.predict(xtest[3].reshape(1,-1)))\n",
    "print(\"valeur réelle : \",ytest[3])"
   ]
  },
  {
   "cell_type": "code",
   "execution_count": 12,
   "metadata": {},
   "outputs": [],
   "source": [
    "predict = mlp.predict(xtest)"
   ]
  },
  {
   "cell_type": "code",
   "execution_count": 13,
   "metadata": {},
   "outputs": [
    {
     "data": {
      "text/plain": [
       "0.9452380952380952"
      ]
     },
     "execution_count": 13,
     "metadata": {},
     "output_type": "execute_result"
    }
   ],
   "source": [
    "precision_score(ytest,predict,average='micro')"
   ]
  },
  {
   "cell_type": "markdown",
   "metadata": {},
   "source": [
    "## Variation du nombre de couches du réseau"
   ]
  },
  {
   "cell_type": "code",
   "execution_count": 25,
   "metadata": {},
   "outputs": [],
   "source": [
    "# Initialisation des classifier (2,10,20,50,100 couches de 50 neurones)\n",
    "mlp2 = MLPClassifier(hidden_layer_sizes=(50,50))\n",
    "mlp10 = MLPClassifier(hidden_layer_sizes= tuple([50]*10))\n",
    "mlp20 = MLPClassifier(hidden_layer_sizes= tuple([50]*20))\n",
    "mlp50 = MLPClassifier(hidden_layer_sizes=tuple([50]*50))\n",
    "mlp100 = MLPClassifier(hidden_layer_sizes=tuple([50]*100))"
   ]
  },
  {
   "cell_type": "code",
   "execution_count": 38,
   "metadata": {},
   "outputs": [],
   "source": [
    "time_nb =[]\n",
    "# entraînement des réseaux\n",
    "sec_avant = time.time()\n",
    "mlp2.fit(xtrain,ytrain)\n",
    "time_nb.append(time.time()-sec_avant)\n",
    "\n",
    "sec_avant = time.time()\n",
    "mlp10.fit(xtrain,ytrain)\n",
    "time_nb.append(time.time()-sec_avant)\n",
    "\n",
    "sec_avant = time.time()\n",
    "mlp20.fit(xtrain,ytrain)\n",
    "time_nb.append(time.time()-sec_avant)\n",
    "\n",
    "sec_avant = time.time()\n",
    "mlp50.fit(xtrain,ytrain)\n",
    "time_nb.append(time.time()-sec_avant)\n",
    "\n",
    "sec_avant = time.time()\n",
    "mlp100.fit(xtrain,ytrain)\n",
    "time_nb.append(time.time()-sec_avant)"
   ]
  },
  {
   "cell_type": "code",
   "execution_count": 43,
   "metadata": {},
   "outputs": [
    {
     "name": "stdout",
     "output_type": "stream",
     "text": [
      "0.9719523809523809\n",
      "0.9665714285714285\n"
     ]
    },
    {
     "data": {
      "image/png": "[encoded data removed]",
      "text/plain": [
       "<Figure size 432x288 with 1 Axes>"
      ]
     },
     "metadata": {
      "needs_background": "light"
     },
     "output_type": "display_data"
    }
   ],
   "source": [
    "liste_score = [mlp2.score(xtest,ytest),mlp10.score(xtest,ytest),mlp20.score(xtest,ytest),mlp50.score(xtest,ytest),mlp100.score(xtest,ytest)]\n",
    "liste_score2 = [mlp2.score(xtrain,ytrain),mlp10.score(xtrain,ytrain),mlp20.score(xtrain,ytrain),mlp50.score(xtrain,ytrain),mlp100.score(xtrain,ytrain)]\n",
    "plt.plot([2,10,20,50,100],liste_score,label=\"Jeu de test\")\n",
    "#plt.plot([2,10,20,50,100],liste_score2,label=\"Jeu d'entraînement\")\n",
    "print(mlp10.score(xtest,ytest))\n",
    "print(mlp20.score(xtest,ytest))\n",
    "plt.xlabel(\"Nombre de couches\")\n",
    "plt.ylabel(\"Précision\")\n",
    "plt.title(\"Précision en fonction du nombre de couches\")\n",
    "plt.show()"
   ]
  },
  {
   "cell_type": "code",
   "execution_count": 41,
   "metadata": {},
   "outputs": [
    {
     "data": {
      "image/png": "[encoded data removed]",
      "text/plain": [
       "<Figure size 432x288 with 1 Axes>"
      ]
     },
     "metadata": {
      "needs_background": "light"
     },
     "output_type": "display_data"
    }
   ],
   "source": [
    "\n",
    "plt.plot([2,10,20,50,100],time_nb)\n",
    "plt.xlabel(\"Nombre de couches\")\n",
    "plt.ylabel(\"Temps d'apprentissage\")\n",
    "plt.title(\"Temps d'éxécution en fonction du nombre de couches\")\n",
    "plt.show()"
   ]
  },
  {
   "cell_type": "markdown",
   "metadata": {},
   "source": [
    "## Variation du nombre de neurones par couches\n",
    "\n",
    "### 1er modèle : 50 couche de 60 à 11 neurones"
   ]
  },
  {
   "cell_type": "code",
   "execution_count": 34,
   "metadata": {},
   "outputs": [
    {
     "name": "stdout",
     "output_type": "stream",
     "text": [
      "temps de calcul : 60.53572750091553\n"
     ]
    }
   ],
   "source": [
    "lst1 = []\n",
    "for i in range(60,10,-1):\n",
    "    lst1.append(i)\n",
    "tuple1 = tuple(lst1)    \n",
    "mlp_B50 = MLPClassifier(hidden_layer_sizes=(tuple1))\n",
    "sec_avant = time.time()\n",
    "mlp_B50.fit(xtrain,ytrain)                  \n",
    "print(\"temps de calcul :\",time.time()-sec_avant)\n",
    "                            "
   ]
  },
  {
   "cell_type": "markdown",
   "metadata": {},
   "source": [
    "### 2ème modèle : 20 couches de 60 à 11 neurones"
   ]
  },
  {
   "cell_type": "code",
   "execution_count": 8,
   "metadata": {},
   "outputs": [
    {
     "name": "stdout",
     "output_type": "stream",
     "text": [
      "(60, 57, 54, 51, 48, 45, 42, 39, 36, 33, 31, 29, 27, 25, 23, 21, 19, 17, 15, 13, 11)\n"
     ]
    }
   ],
   "source": [
    "lst2 = []\n",
    "for i in range(60,32,-3):\n",
    "    lst2.append(i)\n",
    "for i in range(31,10,-2):\n",
    "    lst2.append(i)\n",
    "tuple2 = tuple(lst2)\n",
    "print(tuple2)"
   ]
  },
  {
   "cell_type": "code",
   "execution_count": 32,
   "metadata": {},
   "outputs": [
    {
     "name": "stdout",
     "output_type": "stream",
     "text": [
      "temps de calcul : 89.6930615901947\n"
     ]
    }
   ],
   "source": [
    "\n",
    "\n",
    "mlp_B20 = MLPClassifier(hidden_layer_sizes=(tuple2))\n",
    "sec_avant = time.time()\n",
    "mlp_B20.fit(xtrain,ytrain)                  \n",
    "print(\"temps de calcul :\",time.time()-sec_avant)\n",
    "\n"
   ]
  },
  {
   "cell_type": "code",
   "execution_count": 33,
   "metadata": {},
   "outputs": [
    {
     "name": "stdout",
     "output_type": "stream",
     "text": [
      "score pour le 1er modèle : 0.11385714285714285\n",
      "score pour le 2ème modèle : 0.9707142857142858\n"
     ]
    }
   ],
   "source": [
    "print(\"score pour le 1er modèle :\", mlp_B50.score(xtest,ytest))\n",
    "print(\"score pour le 2ème modèle :\",mlp_B20.score(xtest,ytest))"
   ]
  },
  {
   "cell_type": "markdown",
   "metadata": {},
   "source": [
    "## Test des différents solveur sur les 2 modèles précédents"
   ]
  },
  {
   "cell_type": "code",
   "execution_count": 21,
   "metadata": {},
   "outputs": [],
   "source": [
    "#initialisation des différents réseaux en fonction des solveur/modèles\n",
    "mlp_20ad = MLPClassifier(solver='adam',hidden_layer_sizes=(tuple2))\n",
    "#mlp_50ad = MLPClassifier(solver='adam',hidden_layer_sizes=(tuple1))\n",
    "mlp_20lb = MLPClassifier(solver='lbfgs',hidden_layer_sizes=(tuple2))\n",
    "#mlp_50lb = MLPClassifier(solver='lbfgs',hidden_layer_sizes=(tuple1))\n",
    "mlp_20sgd = MLPClassifier(solver='sgd',hidden_layer_sizes=(tuple2))\n",
    "#mlp_50sgd= MLPClassifier(solver='sgd',hidden_layer_sizes=(tuple1))"
   ]
  },
  {
   "cell_type": "code",
   "execution_count": 22,
   "metadata": {},
   "outputs": [],
   "source": [
    "time_20 =[]\n",
    "\n",
    "\n",
    "temp = time.time()\n",
    "mlp_20ad.fit(xtrain,ytrain)                  \n",
    "time_20.append(time.time()-temp)\n",
    "\n",
    "temp = time.time()\n",
    "mlp_20lb.fit(xtrain,ytrain)                  \n",
    "time_20.append(time.time()-temp)\n",
    "\n",
    "temp = time.time()\n",
    "mlp_20sgd.fit(xtrain,ytrain)                  \n",
    "time_20.append(time.time()-temp)\n",
    "\n"
   ]
  },
  {
   "cell_type": "code",
   "execution_count": 11,
   "metadata": {},
   "outputs": [],
   "source": [
    "\n",
    "time_50 =[]\n",
    "\n",
    "temp = time.time()\n",
    "mlp_50ad.fit(xtrain,ytrain)                  \n",
    "time_50.append(time.time()-temp)\n",
    "\n",
    "#2ème solveur\n",
    "\n",
    "\n",
    "temp = time.time()\n",
    "mlp_50lb.fit(xtrain,ytrain)                  a\n",
    "time_50.append(time.time()-temp) \n",
    "\n",
    "#3ème solveur\n",
    "\n",
    "temp = time.time()\n",
    "mlp_50sgd.fit(xtrain,ytrain)                  \n",
    "time_50.append(time.time()-temp)\n"
   ]
  },
  {
   "cell_type": "code",
   "execution_count": null,
   "metadata": {},
   "outputs": [],
   "source": []
  },
  {
   "cell_type": "code",
   "execution_count": 12,
   "metadata": {},
   "outputs": [
    {
     "data": {
      "image/png": "[encoded data removed]",
      "text/plain": [
       "<Figure size 432x288 with 1 Axes>"
      ]
     },
     "metadata": {
      "needs_background": "light"
     },
     "output_type": "display_data"
    }
   ],
   "source": [
    "liste_score50 = [mlp_50ad.score(xtest,ytest),mlp_50lb.score(xtest,ytest),mlp_50sgd.score(xtest,ytest)]\n",
    "plt.plot(['adam','lbfgs','sgd'],liste_score50)\n",
    "plt.xlabel(\"Solveur\")\n",
    "plt.ylabel(\"Score\")\n",
    "plt.title(\"Scores en fonction du solveur sur le modèle de 50 couches\")\n",
    "plt.show()"
   ]
  },
  {
   "cell_type": "code",
   "execution_count": 24,
   "metadata": {
    "scrolled": true
   },
   "outputs": [
    {
     "data": {
      "image/png": "[encoded data removed]",
      "text/plain": [
       "<Figure size 432x288 with 1 Axes>"
      ]
     },
     "metadata": {
      "needs_background": "light"
     },
     "output_type": "display_data"
    }
   ],
   "source": [
    "liste_score20 = [mlp_20ad.score(xtest,ytest),mlp_20lb.score(xtest,ytest),mlp_20sgd.score(xtest,ytest)]\n",
    "plt.bar(['adam','lbfgs','sgd'],liste_score20)\n",
    "plt.xlabel(\"Solveur\")\n",
    "plt.ylabel(\"Précision\")\n",
    "plt.title(\"Précision en fonction du solveur sur le modèle de 20 couches\")\n",
    "plt.show()"
   ]
  },
  {
   "cell_type": "code",
   "execution_count": 27,
   "metadata": {},
   "outputs": [
    {
     "data": {
      "text/plain": [
       "'\\nplt.plot([\\'adam\\',\\'lbfgs\\',\\'sgd\\'],time_50)\\nplt.xlabel(\"Solveur\")\\nplt.ylabel(\"Temps d\\'éxécution (sec)\")\\nplt.title(\"Temps d\\'éxécution en fonction du solveur sur le modèle de 50 couches\")\\nplt.show()'"
      ]
     },
     "execution_count": 27,
     "metadata": {},
     "output_type": "execute_result"
    }
   ],
   "source": [
    "\"\"\"\n",
    "plt.plot(['adam','lbfgs','sgd'],time_50)\n",
    "plt.xlabel(\"Solveur\")\n",
    "plt.ylabel(\"Temps d'éxécution (sec)\")\n",
    "plt.title(\"Temps d'éxécution en fonction du solveur sur le modèle de 50 couches\")\n",
    "plt.show()\"\"\""
   ]
  },
  {
   "cell_type": "code",
   "execution_count": 26,
   "metadata": {
    "scrolled": true
   },
   "outputs": [
    {
     "data": {
      "image/png": "[encoded data removed]",
      "text/plain": [
       "<Figure size 432x288 with 1 Axes>"
      ]
     },
     "metadata": {
      "needs_background": "light"
     },
     "output_type": "display_data"
    }
   ],
   "source": [
    "\n",
    "plt.bar(['adam','lbfgs','sgd'],time_20)\n",
    "plt.xlabel(\"Solveur\")\n",
    "plt.ylabel(\"Temps d'éxécution\")\n",
    "plt.title(\"Temps d'éxécution en fonction du solveur sur le modèle de 20 couches\")\n",
    "plt.show()"
   ]
  },
  {
   "cell_type": "markdown",
   "metadata": {},
   "source": [
    "## Variation de la fonction d'activation"
   ]
  },
  {
   "cell_type": "code",
   "execution_count": 15,
   "metadata": {},
   "outputs": [],
   "source": [
    "mlp_20id = MLPClassifier(hidden_layer_sizes=(tuple2),activation ='identity')\n",
    "mlp_20log = MLPClassifier(hidden_layer_sizes=(tuple2),activation ='logistic')\n",
    "mlp_20tan = MLPClassifier(hidden_layer_sizes=(tuple2),activation ='tanh')\n",
    "mlp_20relu = MLPClassifier(hidden_layer_sizes=(tuple2),activation ='relu')\n",
    "\n",
    "time_act =[]\n",
    "\n",
    "temp = time.time()\n",
    "mlp_20id.fit(xtrain,ytrain)                  \n",
    "time_act.append(time.time()-temp)\n",
    "\n",
    "temp = time.time()\n",
    "mlp_20log.fit(xtrain,ytrain)                  \n",
    "time_act.append(time.time()-temp)\n",
    "\n",
    "temp = time.time()\n",
    "mlp_20tan.fit(xtrain,ytrain)                  \n",
    "time_act.append(time.time()-temp)\n",
    "\n",
    "temp = time.time()\n",
    "mlp_20relu.fit(xtrain,ytrain)                  \n",
    "time_act.append(time.time()-temp)"
   ]
  },
  {
   "cell_type": "code",
   "execution_count": 17,
   "metadata": {},
   "outputs": [
    {
     "data": {
      "image/png": "[encoded data removed]",
      "text/plain": [
       "<Figure size 432x288 with 1 Axes>"
      ]
     },
     "metadata": {
      "needs_background": "light"
     },
     "output_type": "display_data"
    }
   ],
   "source": [
    "\n",
    "plt.bar(['identity','logistic','tanh','relu'],time_act)\n",
    "plt.xlabel(\"Fonction d'activation\")\n",
    "plt.ylabel(\"Temps d'éxécution\")\n",
    "plt.title(\"Temps d'éxécution en fonction de la fonction d'activation\")\n",
    "plt.show()"
   ]
  },
  {
   "cell_type": "code",
   "execution_count": 18,
   "metadata": {},
   "outputs": [
    {
     "data": {
      "image/png": "[encoded data removed]",
      "text/plain": [
       "<Figure size 432x288 with 1 Axes>"
      ]
     },
     "metadata": {
      "needs_background": "light"
     },
     "output_type": "display_data"
    }
   ],
   "source": [
    "score_act = [mlp_20id.score(xtest,ytest),mlp_20log.score(xtest,ytest),mlp_20tan.score(xtest,ytest),mlp_20relu.score(xtest,ytest)]\n",
    "plt.bar(['identity','logistic','tanh','relu'],score_act)\n",
    "plt.xlabel(\"Fonction d'activation\")\n",
    "plt.ylabel(\"Précision\")\n",
    "plt.title(\"Précision en fonction de la fonction d'activation\")\n",
    "plt.show()"
   ]
  },
  {
   "cell_type": "markdown",
   "metadata": {},
   "source": [
    "## Variation la régularisation L2 (alpha)"
   ]
  },
  {
   "cell_type": "code",
   "execution_count": 8,
   "metadata": {},
   "outputs": [],
   "source": [
    "mlp_20_1 = MLPClassifier(hidden_layer_sizes=(tuple2),alpha=10**(-1))\n",
    "mlp_20_2 = MLPClassifier(hidden_layer_sizes=(tuple2),alpha=10**(-2))\n",
    "mlp_20_3 = MLPClassifier(hidden_layer_sizes=(tuple2),alpha=10**(-3))\n",
    "mlp_20_4 = MLPClassifier(hidden_layer_sizes=(tuple2),alpha=10**(-4))\n",
    "mlp_20_5 = MLPClassifier(hidden_layer_sizes=(tuple2),alpha=10**(-5))\n",
    "mlp_20_6 = MLPClassifier(hidden_layer_sizes=(tuple2),alpha=10**(-6))"
   ]
  },
  {
   "cell_type": "code",
   "execution_count": 9,
   "metadata": {},
   "outputs": [],
   "source": [
    "time_alph =[]\n",
    "\n",
    "temp = time.time()\n",
    "mlp_20_1.fit(xtrain,ytrain)                  \n",
    "time_alph.append(time.time()-temp)\n",
    "\n",
    "temp = time.time()\n",
    "mlp_20_2.fit(xtrain,ytrain)                  \n",
    "time_alph.append(time.time()-temp)\n",
    "\n",
    "temp = time.time()\n",
    "mlp_20_3.fit(xtrain,ytrain)                  \n",
    "time_alph.append(time.time()-temp)\n",
    "\n",
    "temp = time.time()\n",
    "mlp_20_4.fit(xtrain,ytrain)                  \n",
    "time_alph.append(time.time()-temp)\n",
    "\n",
    "temp = time.time()\n",
    "mlp_20_5.fit(xtrain,ytrain)                  \n",
    "time_alph.append(time.time()-temp)\n",
    "\n",
    "temp = time.time()\n",
    "mlp_20_6.fit(xtrain,ytrain)                  \n",
    "time_alph.append(time.time()-temp)\n"
   ]
  },
  {
   "cell_type": "code",
   "execution_count": 10,
   "metadata": {},
   "outputs": [
    {
     "data": {
      "image/png": "[encoded data removed]",
      "text/plain": [
       "<Figure size 432x288 with 1 Axes>"
      ]
     },
     "metadata": {
      "needs_background": "light"
     },
     "output_type": "display_data"
    }
   ],
   "source": [
    "plt.plot(['10^⁻1','10^-2','10^-3','10^-4','10^-5','10^-6'],time_alph)\n",
    "plt.xlabel(\"Alpha\")\n",
    "plt.ylabel(\"Temps d'éxécution\")\n",
    "plt.title(\"Temps d'éxécution en fonction de la régularisation L2 (alpha)\")\n",
    "plt.show()"
   ]
  },
  {
   "cell_type": "code",
   "execution_count": 11,
   "metadata": {},
   "outputs": [
    {
     "data": {
      "image/png": "[encoded data removed]",
      "text/plain": [
       "<Figure size 432x288 with 1 Axes>"
      ]
     },
     "metadata": {
      "needs_background": "light"
     },
     "output_type": "display_data"
    }
   ],
   "source": [
    "score_alph = [mlp_20_1.score(xtest,ytest),mlp_20_2.score(xtest,ytest),mlp_20_3.score(xtest,ytest),mlp_20_4.score(xtest,ytest),mlp_20_5.score(xtest,ytest),mlp_20_6.score(xtest,ytest)]\n",
    "plt.plot(['10^-1','10^-2','10^-3','10^-4','10^-5','10^-6'],score_alph)\n",
    "plt.xlabel(\"Alpha\")\n",
    "plt.ylabel(\"Score\")\n",
    "plt.title(\"Score en fonction de la régularisation L2 (alpha)\")\n",
    "plt.show()"
   ]
  },
  {
   "cell_type": "markdown",
   "metadata": {},
   "source": [
    "## Choix du modèle avec le meilleur résultat"
   ]
  },
  {
   "cell_type": "code",
   "execution_count": 14,
   "metadata": {},
   "outputs": [
    {
     "name": "stdout",
     "output_type": "stream",
     "text": [
      "précision :  0.9691904761904762\n",
      "temps d'execution 103.70916891098022\n"
     ]
    }
   ],
   "source": [
    "mlp_best =MLPClassifier(hidden_layer_sizes=(tuple2),solver='adam',activation ='relu',alpha=10**(-6))\n",
    "\n",
    "temp = time.time()\n",
    "mlp_best.fit(xtrain,ytrain)                  \n",
    "time_best=time.time()-temp\n",
    "\n",
    "print(\"précision : \", mlp_best.score(xtest,ytest))\n",
    "print(\"temps d'execution\", time_best)"
   ]
  }
 ],
 "metadata": {
  "kernelspec": {
   "display_name": "Python 3",
   "language": "python",
   "name": "python3"
  },
  "language_info": {
   "codemirror_mode": {
    "name": "ipython",
    "version": 3
   },
   "file_extension": ".py",
   "mimetype": "text/x-python",
   "name": "python",
   "nbconvert_exporter": "python",
   "pygments_lexer": "ipython3",
   "version": "3.7.3"
  },
  "latex_envs": {
   "LaTeX_envs_menu_present": true,
   "autoclose": false,
   "autocomplete": true,
   "bibliofile": "biblio.bib",
   "cite_by": "apalike",
   "current_citInitial": 1,
   "eqLabelWithNumbers": true,
   "eqNumInitial": 1,
   "hotkeys": {
    "equation": "Ctrl-E",
    "itemize": "Ctrl-I"
   },
   "labels_anchors": false,
   "latex_user_defs": false,
   "report_style_numbering": false,
   "user_envs_cfg": false
  }
 },
 "nbformat": 4,
 "nbformat_minor": 2
}
