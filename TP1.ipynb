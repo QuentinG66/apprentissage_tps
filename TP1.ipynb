{
 "cells": [
  {
   "cell_type": "markdown",
   "metadata": {},
   "source": [
    "# TP1 K-NN"
   ]
  },
  {
   "cell_type": "markdown",
   "metadata": {},
   "source": [
    "## Importation des library nécessaires"
   ]
  },
  {
   "cell_type": "code",
   "execution_count": 1,
   "metadata": {},
   "outputs": [],
   "source": [
    "from sklearn.datasets import fetch_openml\n",
    "import matplotlib.pyplot as plt"
   ]
  },
  {
   "cell_type": "markdown",
   "metadata": {},
   "source": [
    "## Importation du jeu de données"
   ]
  },
  {
   "cell_type": "code",
   "execution_count": 2,
   "metadata": {},
   "outputs": [],
   "source": [
    "mnist = fetch_openml('mnist_784') "
   ]
  },
  {
   "cell_type": "code",
   "execution_count": 3,
   "metadata": {},
   "outputs": [],
   "source": [
    "#print(mnist.data[0])"
   ]
  },
  {
   "cell_type": "code",
   "execution_count": 4,
   "metadata": {},
   "outputs": [
    {
     "name": "stdout",
     "output_type": "stream",
     "text": [
      "['5' '0' '4' ... '4' '5' '6']\n"
     ]
    }
   ],
   "source": [
    "# Affichage des labels en cas d'apprentissage supervisé\n",
    "print(mnist.target)"
   ]
  },
  {
   "cell_type": "code",
   "execution_count": 5,
   "metadata": {},
   "outputs": [
    {
     "data": {
      "text/plain": [
       "70000"
      ]
     },
     "execution_count": 5,
     "metadata": {},
     "output_type": "execute_result"
    }
   ],
   "source": [
    "len(mnist.data)"
   ]
  },
  {
   "cell_type": "code",
   "execution_count": 6,
   "metadata": {},
   "outputs": [
    {
     "name": "stdout",
     "output_type": "stream",
     "text": [
      "(70000, 784)\n"
     ]
    }
   ],
   "source": [
    "print(mnist.data.shape)"
   ]
  },
  {
   "cell_type": "markdown",
   "metadata": {},
   "source": [
    "## Affichage d'une image"
   ]
  },
  {
   "cell_type": "code",
   "execution_count": 7,
   "metadata": {},
   "outputs": [
    {
     "data": {
      "image/png": "[encoded data removed]",
      "text/plain": [
       "<Figure size 432x288 with 1 Axes>"
      ]
     },
     "metadata": {
      "needs_background": "light"
     },
     "output_type": "display_data"
    },
    {
     "name": "stdout",
     "output_type": "stream",
     "text": [
      "2\n"
     ]
    }
   ],
   "source": [
    "images = mnist.data.reshape((-1, 28, 28))\n",
    "plt.imshow(images[5],cmap=plt.cm.gray_r,interpolation=\"nearest\")\n",
    "plt.show() \n",
    "print(mnist.target[5]) # Affichage du label"
   ]
  },
  {
   "cell_type": "markdown",
   "metadata": {},
   "source": [
    "## Utilisation de l'algo de K-NN"
   ]
  },
  {
   "cell_type": "code",
   "execution_count": 8,
   "metadata": {},
   "outputs": [],
   "source": [
    "from sklearn import neighbors, model_selection"
   ]
  },
  {
   "cell_type": "code",
   "execution_count": 9,
   "metadata": {},
   "outputs": [],
   "source": [
    "import numpy as np"
   ]
  },
  {
   "cell_type": "code",
   "execution_count": 10,
   "metadata": {},
   "outputs": [],
   "source": [
    "data = np.random.randint(70000,size=5000)"
   ]
  },
  {
   "cell_type": "code",
   "execution_count": 11,
   "metadata": {},
   "outputs": [],
   "source": [
    "xtrain, xtest, ytrain, ytest =  model_selection.train_test_split(mnist.data[data], mnist.target[data],train_size=0.8)"
   ]
  },
  {
   "cell_type": "markdown",
   "metadata": {},
   "source": [
    "### Creation du classifieur"
   ]
  },
  {
   "cell_type": "code",
   "execution_count": 29,
   "metadata": {},
   "outputs": [],
   "source": [
    "clf = neighbors.KNeighborsClassifier(10)"
   ]
  },
  {
   "cell_type": "markdown",
   "metadata": {},
   "source": [
    "### Apprentissage"
   ]
  },
  {
   "cell_type": "code",
   "execution_count": 30,
   "metadata": {},
   "outputs": [
    {
     "data": {
      "text/plain": [
       "KNeighborsClassifier(algorithm='auto', leaf_size=30, metric='minkowski',\n",
       "                     metric_params=None, n_jobs=None, n_neighbors=10, p=2,\n",
       "                     weights='uniform')"
      ]
     },
     "execution_count": 30,
     "metadata": {},
     "output_type": "execute_result"
    }
   ],
   "source": [
    " clf.fit(xtrain, ytrain)"
   ]
  },
  {
   "cell_type": "markdown",
   "metadata": {},
   "source": [
    "### Test de prédiction en utilisant le quatrième élément du set de test"
   ]
  },
  {
   "cell_type": "code",
   "execution_count": 14,
   "metadata": {},
   "outputs": [
    {
     "name": "stdout",
     "output_type": "stream",
     "text": [
      "valeur prédite :  ['8']\n",
      "valeur réelle :  8\n"
     ]
    }
   ],
   "source": [
    "print(\"valeur prédite : \",clf.predict(xtest[4].reshape(1,-1)))\n",
    "print(\"valeur réelle : \",ytest[4])"
   ]
  },
  {
   "cell_type": "code",
   "execution_count": 15,
   "metadata": {},
   "outputs": [
    {
     "name": "stdout",
     "output_type": "stream",
     "text": [
      "probabilités :  [[0.  0.  0.  0.4 0.  0.  0.  0.  0.6 0. ]]\n"
     ]
    }
   ],
   "source": [
    "print(\"probabilités : \",clf.predict_proba(xtest[4].reshape(1,-1)))"
   ]
  },
  {
   "cell_type": "code",
   "execution_count": 16,
   "metadata": {},
   "outputs": [
    {
     "data": {
      "image/png": "[encoded data removed]",
      "text/plain": [
       "<Figure size 432x288 with 1 Axes>"
      ]
     },
     "metadata": {
      "needs_background": "light"
     },
     "output_type": "display_data"
    }
   ],
   "source": [
    "images = xtest.reshape((-1, 28, 28))\n",
    "plt.imshow(images[4],cmap=plt.cm.gray_r,interpolation=\"nearest\")\n",
    "plt.show() "
   ]
  },
  {
   "cell_type": "markdown",
   "metadata": {},
   "source": [
    "### Autre test, non valide cette fois ci"
   ]
  },
  {
   "cell_type": "code",
   "execution_count": 17,
   "metadata": {},
   "outputs": [
    {
     "name": "stdout",
     "output_type": "stream",
     "text": [
      "valeur prédite :  ['7']\n",
      "valeur réelle :  7\n",
      "probabilités :  [[0. 0. 0. 0. 0. 0. 0. 1. 0. 0.]]\n",
      "Image correspondante : \n"
     ]
    },
    {
     "data": {
      "image/png": "[encoded data removed]",
      "text/plain": [
       "<Figure size 432x288 with 1 Axes>"
      ]
     },
     "metadata": {
      "needs_background": "light"
     },
     "output_type": "display_data"
    }
   ],
   "source": [
    "print(\"valeur prédite : \",clf.predict(xtest[5].reshape(1,-1)))\n",
    "print(\"valeur réelle : \",ytest[5])\n",
    "print(\"probabilités : \",clf.predict_proba(xtest[5].reshape(1,-1)))\n",
    "images = xtest.reshape((-1, 28, 28))\n",
    "plt.imshow(images[5],cmap=plt.cm.gray_r,interpolation=\"nearest\")\n",
    "print(\"Image correspondante : \")\n",
    "plt.show()"
   ]
  },
  {
   "cell_type": "markdown",
   "metadata": {},
   "source": [
    "### Score global du classifieur"
   ]
  },
  {
   "cell_type": "code",
   "execution_count": 31,
   "metadata": {},
   "outputs": [
    {
     "data": {
      "text/plain": [
       "0.943"
      ]
     },
     "execution_count": 31,
     "metadata": {},
     "output_type": "execute_result"
    }
   ],
   "source": [
    "clf.score(xtest, ytest)\n",
    "# score sur le jeu de test\n",
    "clf.score(xtrain, ytrain)"
   ]
  },
  {
   "cell_type": "markdown",
   "metadata": {},
   "source": [
    "Ce chiffre est normal, avec 5000 images seulement et des ecritures différentes entre les personnes, l'algorithme ne parvient pas à reconnaitre toutes les images"
   ]
  },
  {
   "cell_type": "markdown",
   "metadata": {},
   "source": [
    "### Test avec des k différents"
   ]
  },
  {
   "cell_type": "code",
   "execution_count": 19,
   "metadata": {},
   "outputs": [
    {
     "data": {
      "image/png": "[encoded data removed]",
      "text/plain": [
       "<Figure size 432x288 with 1 Axes>"
      ]
     },
     "metadata": {
      "needs_background": "light"
     },
     "output_type": "display_data"
    },
    {
     "data": {
      "text/plain": [
       "[33, 55]"
      ]
     },
     "execution_count": 19,
     "metadata": {},
     "output_type": "execute_result"
    }
   ],
   "source": [
    "plt.plot(range(2,6),[3,3,4,8],'o')\n",
    "plt.xlabel(\"wololo\")\n",
    "plt.title(\"test\")\n",
    "plt.show()\n",
    "from operator import add,truediv\n",
    "liste = [x / 10 for x in [5,6]]\n",
    "liste[1]\n",
    "list(map(add,[12,23],[21,32]))"
   ]
  },
  {
   "cell_type": "code",
   "execution_count": 20,
   "metadata": {},
   "outputs": [
    {
     "name": "stdout",
     "output_type": "stream",
     "text": [
      "0.923\n",
      "0.936\n",
      "0.924\n",
      "0.932\n",
      "0.932\n",
      "0.925\n",
      "0.927\n",
      "0.921\n",
      "0.918\n",
      "0.917\n",
      "0.913\n",
      "0.915\n",
      "0.913\n",
      "0.91\n",
      "0.923\n",
      "0.936\n",
      "0.924\n",
      "0.932\n",
      "0.932\n",
      "0.925\n",
      "0.927\n",
      "0.921\n",
      "0.918\n",
      "0.917\n",
      "0.913\n",
      "0.915\n",
      "0.913\n",
      "0.91\n",
      "0.923\n",
      "0.936\n",
      "0.924\n",
      "0.932\n",
      "0.932\n",
      "0.925\n",
      "0.927\n",
      "0.921\n",
      "0.918\n",
      "0.917\n",
      "0.913\n",
      "0.915\n",
      "0.913\n",
      "0.91\n",
      "0.923\n",
      "0.936\n",
      "0.924\n",
      "0.932\n",
      "0.932\n",
      "0.925\n",
      "0.927\n",
      "0.921\n",
      "0.918\n",
      "0.917\n",
      "0.913\n",
      "0.915\n",
      "0.913\n",
      "0.91\n",
      "0.923\n",
      "0.936\n",
      "0.924\n",
      "0.932\n",
      "0.932\n",
      "0.925\n",
      "0.927\n",
      "0.921\n",
      "0.918\n",
      "0.917\n",
      "0.913\n",
      "0.915\n",
      "0.913\n",
      "0.91\n",
      "[0.923, 0.9360000000000002, 0.924, 0.932, 0.932, 0.925, 0.9269999999999999, 0.921, 0.9179999999999999, 0.917, 0.913, 0.915, 0.913, 0.9099999999999999]\n"
     ]
    },
    {
     "data": {
      "image/png": "[encoded data removed]",
      "text/plain": [
       "<Figure size 432x288 with 1 Axes>"
      ]
     },
     "metadata": {
      "needs_background": "light"
     },
     "output_type": "display_data"
    }
   ],
   "source": [
    "liste_finale = [0]*14\n",
    "for i in range (1,6):\n",
    "    temp = []\n",
    "    for k in range(2,16):\n",
    "        clf = neighbors.KNeighborsClassifier(k,n_jobs=-1)\n",
    "        clf.fit(xtrain, ytrain)\n",
    "        a = clf.score(xtest, ytest)\n",
    "        temp.append(a)\n",
    "        print(a)\n",
    "    liste_finale = list(map(add,liste_finale,temp))\n",
    "liste_finale = [x/5 for x in liste_finale]\n",
    "print(liste_finale)\n",
    "plt.plot(range(2,16),liste_finale,'o')\n",
    "plt.xlabel(\"k\")\n",
    "plt.ylabel(\"Score\")\n",
    "plt.title(\"Moyenne des scores en fonction de k\")\n",
    "plt.show()"
   ]
  },
  {
   "cell_type": "markdown",
   "metadata": {},
   "source": [
    "On remarque que les meilleurs scores sont pour k = 3 ou 5,6<br>"
   ]
  },
  {
   "cell_type": "code",
   "execution_count": 21,
   "metadata": {},
   "outputs": [],
   "source": [
    "#On cache les warnings pour ne pas avoir un affichage trop long\n",
    "import warnings\n",
    "warnings.filterwarnings('ignore')"
   ]
  },
  {
   "cell_type": "markdown",
   "metadata": {},
   "source": [
    "### Changement du pourcentage train/test (et k = 7)"
   ]
  },
  {
   "cell_type": "code",
   "execution_count": 22,
   "metadata": {},
   "outputs": [
    {
     "name": "stdout",
     "output_type": "stream",
     "text": [
      "0.8997142857142857\n",
      "0.9006153846153846\n",
      "0.911\n",
      "0.9170909090909091\n",
      "0.9196\n",
      "0.9195555555555556\n",
      "0.9245\n",
      "0.9234285714285714\n",
      "0.9266666666666666\n",
      "0.9328\n",
      "0.934\n",
      "0.9333333333333333\n",
      "0.964\n",
      "0.96\n",
      "0.898\n",
      "0.9030769230769231\n",
      "0.9126666666666666\n",
      "0.9207272727272727\n",
      "0.9204\n",
      "0.9173333333333333\n",
      "0.922\n",
      "0.9234285714285714\n",
      "0.932\n",
      "0.9392\n",
      "0.927\n",
      "0.9293333333333333\n",
      "0.934\n",
      "0.924\n",
      "0.9045714285714286\n",
      "0.9092307692307692\n",
      "0.9073333333333333\n",
      "0.92\n",
      "0.9104\n",
      "0.924\n",
      "0.9265\n",
      "0.924\n",
      "0.9313333333333333\n",
      "0.9248\n",
      "0.924\n",
      "0.9373333333333334\n",
      "0.928\n",
      "0.916\n",
      "0.9062857142857143\n",
      "0.9153846153846154\n",
      "0.908\n",
      "0.9189090909090909\n",
      "0.9224\n",
      "0.9191111111111111\n",
      "0.93\n",
      "0.92\n",
      "0.9293333333333333\n",
      "0.92\n",
      "0.927\n",
      "0.9493333333333334\n",
      "0.928\n",
      "0.92\n",
      "0.9011428571428571\n",
      "0.9107692307692308\n",
      "0.9096666666666666\n",
      "0.9116363636363637\n",
      "0.9228\n",
      "0.9155555555555556\n",
      "0.917\n",
      "0.932\n",
      "0.9373333333333334\n",
      "0.936\n",
      "0.93\n",
      "0.924\n",
      "0.952\n",
      "0.94\n",
      "[0.9019428571428569, 0.9078153846153846, 0.9097333333333333, 0.9176727272727272, 0.91912, 0.9191111111111111, 0.924, 0.9245714285714286, 0.9313333333333332, 0.93056, 0.9284000000000001, 0.9346666666666668, 0.9411999999999999, 0.932]\n"
     ]
    },
    {
     "data": {
      "image/png": "[encoded data removed]",
      "text/plain": [
       "<Figure size 432x288 with 1 Axes>"
      ]
     },
     "metadata": {
      "needs_background": "light"
     },
     "output_type": "display_data"
    }
   ],
   "source": [
    "liste_finale = [0]*14\n",
    "for i in range (1,6):\n",
    "    temp = []\n",
    "    for k in range(30,100,5):\n",
    "        xtrain, xtest, ytrain, ytest =  model_selection.train_test_split(mnist.data[data], mnist.target[data],train_size=k/100)\n",
    "        clf = neighbors.KNeighborsClassifier(5,n_jobs=-1)\n",
    "        clf.fit(xtrain, ytrain)\n",
    "        a = clf.score(xtest, ytest)\n",
    "        temp.append(a)\n",
    "        print(a)\n",
    "    liste_finale = list(map(add,liste_finale,temp))\n",
    "liste_finale = [x/5 for x in liste_finale]\n",
    "print(liste_finale)\n",
    "plt.plot(range(30,100,5),liste_finale,'o')\n",
    "plt.xlabel(\"Pourcentage d'utilisation du set pour l'apprentissage\")\n",
    "plt.ylabel(\"Score\")\n",
    "plt.title(\"Moyenne des scores en fonction du pourcentage\")\n",
    "plt.show()\n"
   ]
  },
  {
   "cell_type": "markdown",
   "metadata": {},
   "source": [
    "On remarque que plus le pourcentage est grand plus le score est bon. Cela est expliqué par le fait que plus le pourcentage est grand et plus la taille du set de training est grande. Si l'algorithme peut s'entrainer sur plus de données alors il sera meilleur"
   ]
  },
  {
   "cell_type": "markdown",
   "metadata": {},
   "source": [
    "### Changement du type de distance\n",
    "Type 1 : Distance de Manhattan <br>\n",
    "Type 2 : (default) Distance Euclidienne"
   ]
  },
  {
   "cell_type": "code",
   "execution_count": 23,
   "metadata": {},
   "outputs": [
    {
     "name": "stdout",
     "output_type": "stream",
     "text": [
      "score avec le type de distance  1  :  0.926\n",
      "score avec le type de distance  2  :  0.942\n",
      "score avec le type de distance  3  :  0.934\n",
      "score avec le type de distance  4  :  0.922\n",
      "score avec le type de distance  5  :  0.93\n",
      "score avec le type de distance  6  :  0.932\n",
      "score avec le type de distance  7  :  0.938\n"
     ]
    }
   ],
   "source": [
    " for p in range(1,8):\n",
    "    xtrain, xtest, ytrain, ytest =  model_selection.train_test_split(mnist.data[data], mnist.target[data],train_size=0.9)\n",
    "    clf = neighbors.KNeighborsClassifier(7,p=p)\n",
    "    clf.fit(xtrain, ytrain)\n",
    "    print(\"score avec le type de distance \",p,\" : \",clf.score(xtest, ytest))"
   ]
  },
  {
   "cell_type": "code",
   "execution_count": 24,
   "metadata": {},
   "outputs": [
    {
     "data": {
      "image/png": "[encoded data removed]",
      "text/plain": [
       "<Figure size 432x288 with 1 Axes>"
      ]
     },
     "metadata": {
      "needs_background": "light"
     },
     "output_type": "display_data"
    }
   ],
   "source": [
    "plt.plot(range(1,8),[0.892,0.93,0.95,0.936,0.948,0.932,0.966],'o')\n",
    "plt.xlabel(\"Type de distance utilisé\")\n",
    "plt.ylabel(\"Score\")\n",
    "plt.title(\"Evolution du score en fonction du type de distance utilisé\")\n",
    "plt.show()"
   ]
  },
  {
   "cell_type": "markdown",
   "metadata": {},
   "source": [
    "### Changement de n_job, fait varier l'utilisation du nombre de processeurs"
   ]
  },
  {
   "cell_type": "code",
   "execution_count": 25,
   "metadata": {},
   "outputs": [],
   "source": [
    "import time"
   ]
  },
  {
   "cell_type": "code",
   "execution_count": 26,
   "metadata": {},
   "outputs": [
    {
     "name": "stdout",
     "output_type": "stream",
     "text": [
      "temps d'execution avec jobs =  -1  :  0.7408607006072998\n",
      "temps d'execution avec jobs =  1  :  4.456697225570679\n"
     ]
    }
   ],
   "source": [
    " for jobs in [-1,1]:\n",
    "    temps1 = time.time()\n",
    "    xtrain, xtest, ytrain, ytest =  model_selection.train_test_split(mnist.data[data], mnist.target[data],train_size=0.8)\n",
    "    clf = neighbors.KNeighborsClassifier(7,n_jobs=jobs)\n",
    "    clf.fit(xtrain, ytrain)\n",
    "    clf.score(xtest, ytest)\n",
    "    temps_final = time.time() - temps1\n",
    "    print(\"temps d'execution avec jobs = \",jobs,\" : \",temps_final)"
   ]
  },
  {
   "cell_type": "markdown",
   "metadata": {},
   "source": [
    "Changer le paramètre n_jobs ne change pas le temps d'apprentissage mais change le temps pour calculer le score. Dans la documentation il est marqué : \"Doesn't affect fit method\" <br>\n",
    "Sur l'image si dessous on remarque un pic lors de l'utilisation de tous les processeurs puis un plateau correspondant au deuxième calcul avec un seul processeur.\n",
    "![alt text](./capture_proco.png)"
   ]
  },
  {
   "cell_type": "code",
   "execution_count": 32,
   "metadata": {},
   "outputs": [
    {
     "name": "stdout",
     "output_type": "stream",
     "text": [
      "0.865\n",
      "0.9025\n",
      "0.9408333333333333\n",
      "0.931875\n",
      "0.9475\n",
      "0.945\n",
      "0.9528571428571428\n",
      "0.954375\n",
      "0.9491666666666667\n",
      "0.9595\n",
      "0.89\n",
      "0.92375\n",
      "0.9358333333333333\n",
      "0.93625\n",
      "0.9455\n",
      "0.945\n",
      "0.9464285714285714\n",
      "0.9509375\n",
      "0.9577777777777777\n",
      "0.95375\n",
      "0.9225\n",
      "0.92625\n",
      "0.935\n",
      "0.939375\n",
      "0.9485\n",
      "0.9458333333333333\n",
      "0.9507142857142857\n",
      "0.9509375\n",
      "0.9566666666666667\n",
      "0.9655\n",
      "0.9075\n",
      "0.92125\n",
      "0.9291666666666667\n",
      "0.9525\n",
      "0.944\n",
      "0.9483333333333334\n",
      "0.955\n",
      "0.9490625\n",
      "0.9575\n",
      "0.95725\n",
      "0.8925\n",
      "0.915\n",
      "0.9291666666666667\n",
      "0.9375\n",
      "0.9365\n",
      "0.94625\n",
      "0.9478571428571428\n",
      "0.95625\n",
      "0.9575\n",
      "0.95175\n",
      "[0.8955, 0.9177500000000001, 0.9339999999999999, 0.9395, 0.9443999999999999, 0.9460833333333334, 0.9505714285714285, 0.9523125, 0.9557222222222223, 0.95755]\n"
     ]
    },
    {
     "data": {
      "image/png": "[encoded data removed]",
      "text/plain": [
       "<Figure size 432x288 with 1 Axes>"
      ]
     },
     "metadata": {
      "needs_background": "light"
     },
     "output_type": "display_data"
    }
   ],
   "source": [
    "# Changement taille échantillon\n",
    "liste_finale = [0]*10\n",
    "for i in range (1,6):\n",
    "    temp = []\n",
    "    for j in range(2000,22000,2000):\n",
    "        ran = np.random.randint(70000,size=j)\n",
    "        xtrain, xtest, ytrain, ytest = model_selection.train_test_split(mnist.data[ran],mnist.target[ran],train_size=0.8)\n",
    "        clf = neighbors.KNeighborsClassifier(5,n_jobs=-1)\n",
    "        clf.fit(xtrain, ytrain)\n",
    "        a = clf.score(xtest, ytest)\n",
    "        temp.append(a)\n",
    "        print(a)\n",
    "    liste_finale = list(map(add,liste_finale,temp))\n",
    "liste_finale = [x/5 for x in liste_finale]\n",
    "print(liste_finale)\n",
    "plt.plot(range(2000,22000,2000),liste_finale,'o')\n",
    "plt.xlabel(\"Taille échantillon\")\n",
    "plt.ylabel(\"Score\")\n",
    "plt.title(\"Moyenne des scores en fonction de la taille de l'échantillon\")\n",
    "plt.show()\n"
   ]
  },
  {
   "cell_type": "code",
   "execution_count": null,
   "metadata": {},
   "outputs": [],
   "source": []
  },
  {
   "cell_type": "code",
   "execution_count": null,
   "metadata": {},
   "outputs": [],
   "source": []
  }
 ],
 "metadata": {
  "kernelspec": {
   "display_name": "Python 3",
   "language": "python",
   "name": "python3"
  },
  "language_info": {
   "codemirror_mode": {
    "name": "ipython",
    "version": 3
   },
   "file_extension": ".py",
   "mimetype": "text/x-python",
   "name": "python",
   "nbconvert_exporter": "python",
   "pygments_lexer": "ipython3",
   "version": "3.7.3"
  },
  "latex_envs": {
   "LaTeX_envs_menu_present": true,
   "autoclose": false,
   "autocomplete": true,
   "bibliofile": "biblio.bib",
   "cite_by": "apalike",
   "current_citInitial": 1,
   "eqLabelWithNumbers": true,
   "eqNumInitial": 1,
   "hotkeys": {
    "equation": "Ctrl-E",
    "itemize": "Ctrl-I"
   },
   "labels_anchors": false,
   "latex_user_defs": false,
   "report_style_numbering": false,
   "user_envs_cfg": false
  }
 },
 "nbformat": 4,
 "nbformat_minor": 2
}
